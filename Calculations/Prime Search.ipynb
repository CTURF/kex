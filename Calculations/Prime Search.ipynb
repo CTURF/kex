{
 "cells": [
  {
   "cell_type": "code",
   "execution_count": 45,
   "id": "d2662319",
   "metadata": {},
   "outputs": [],
   "source": [
    "import multiprocessing\n",
    "import math\n",
    "\n",
    "from sympy import *"
   ]
  },
  {
   "cell_type": "code",
   "execution_count": 46,
   "id": "eca982f2",
   "metadata": {},
   "outputs": [],
   "source": [
    "def is_sorted(lst):\n",
    "    for i in range(len(lst) - 1):\n",
    "        if lst[i] >= lst[i+1]:\n",
    "            return False\n",
    "    return True"
   ]
  },
  {
   "cell_type": "code",
   "execution_count": 47,
   "id": "6186f3df",
   "metadata": {},
   "outputs": [],
   "source": [
    "assert is_sorted([1,2,3])\n",
    "assert not is_sorted([3,2,1])"
   ]
  },
  {
   "cell_type": "code",
   "execution_count": 48,
   "id": "a62b9565",
   "metadata": {},
   "outputs": [
    {
     "name": "stdout",
     "output_type": "stream",
     "text": [
      "Searching for a prime p of at most 512 bits\n",
      "p + 1 should have 74 distinct prime factors\n",
      "Fixed the first 71 smallest prime factors\n",
      "Searching for best candidates for the last 3 prime factors\n",
      "Largest fixed prime is 353\n",
      "Searching for primes between 359 and 701\n",
      "There are 55 primes in this range\n",
      "Search space has 26235 elements\n"
     ]
    }
   ],
   "source": [
    "# Constant to be set before running\n",
    "CORES = 8 # Number of CPU cores to use\n",
    "n = 74 # Desired number of primes in total\n",
    "k = 3 # Number of last primes to vary\n",
    "DESIRED_BITS = 512\n",
    "\n",
    "# Computed constants\n",
    "DESIRED_SIZE = 2**DESIRED_BITS\n",
    "f = n - k # Number of fixed primes\n",
    "\n",
    "fixed_primes = [prime(i) for i in range(1, f + 1)]\n",
    "assert len(fixed_primes) == f\n",
    "largest_fixed = max(fixed_primes)\n",
    "initial_product = 4 * 3 * prod(fixed_primes)\n",
    "\n",
    "# Computing the search space\n",
    "search_start = nextprime(largest_fixed)\n",
    "\n",
    "search_end = nextprime(700) # More than enough for a prime of our size\n",
    "# A fully exhaustive search would use the formula below:\n",
    "#search_end = prevprime(DESIRED_SIZE / (initial_product * prod([prime(f + 1) for i in range(k - 1)])))\n",
    "\n",
    "candidate_primes = list(primerange(search_start, search_end + 1))\n",
    "assert is_sorted(candidate_primes)\n",
    "max_tuple_prod = DESIRED_SIZE / initial_product\n",
    "\n",
    "# Start-up info\n",
    "print('Searching for a prime p of at most', DESIRED_BITS, 'bits')\n",
    "print('p + 1 should have', n, 'distinct prime factors')\n",
    "print('Fixed the first', f, 'smallest prime factors')\n",
    "print('Searching for best candidates for the last', k, 'prime factors')\n",
    "print('Largest fixed prime is', largest_fixed)\n",
    "print('Searching for primes between', search_start, 'and', search_end)\n",
    "print('There are', len(candidate_primes), 'primes in this range')\n",
    "print('Search space has', binomial(len(candidate_primes), k), 'elements')"
   ]
  },
  {
   "cell_type": "code",
   "execution_count": 49,
   "id": "95589854",
   "metadata": {},
   "outputs": [
    {
     "data": {
      "text/latex": [
       "$\\displaystyle 512.0$"
      ],
      "text/plain": [
       "512.000000000000"
      ]
     },
     "execution_count": 49,
     "metadata": {},
     "output_type": "execute_result"
    }
   ],
   "source": [
    "N(log(max_tuple_prod * initial_product - 1, 2))"
   ]
  },
  {
   "cell_type": "code",
   "execution_count": 50,
   "id": "84764dbd",
   "metadata": {},
   "outputs": [],
   "source": [
    "def possible_next_values(tup):\n",
    "    max_prime = max(tup)\n",
    "    search_start = candidate_primes.index(max_prime)\n",
    "    stop_at = floor(max_tuple_prod / prod(tup))\n",
    "    adds = []\n",
    "    for i in range(search_start + 1, len(candidate_primes)):\n",
    "        candidate = candidate_primes[i]\n",
    "        if candidate > stop_at:\n",
    "            break\n",
    "        adds.append(candidate)\n",
    "    return adds\n",
    "\n",
    "\n",
    "def possible_tuples_starting_with(starting):\n",
    "    tuples = [(starting,)]\n",
    "    for i in range(1, k):\n",
    "        new_tuples = []\n",
    "        for t in tuples:\n",
    "            assert len(t) == i\n",
    "            next_vals = possible_next_values(t)\n",
    "            for n in next_vals:\n",
    "                new_tuples.append(t + (n,))\n",
    "        tuples = new_tuples\n",
    "    return tuples"
   ]
  },
  {
   "cell_type": "code",
   "execution_count": 51,
   "id": "bdfc31aa",
   "metadata": {},
   "outputs": [],
   "source": [
    "# Since search_end is small we could just take all combinations\n",
    "# However this code works in the general case with a larger value of search_end\n",
    "\n",
    "with multiprocessing.Pool(CORES) as pool:\n",
    "    possible_tuples_lists = pool.map(possible_tuples_starting_with, candidate_primes)\n",
    "\n",
    "possible_tuples = []\n",
    "for tuple_list in possible_tuples_lists:\n",
    "    possible_tuples.extend(tuple_list)\n",
    "\n",
    "for tup in possible_tuples:\n",
    "    assert is_sorted(tup)"
   ]
  },
  {
   "cell_type": "code",
   "execution_count": 52,
   "id": "a543d31e",
   "metadata": {},
   "outputs": [],
   "source": [
    "def scored_tuple(tup):\n",
    "    return (tup, sum(math.sqrt(x) for x in tup))"
   ]
  },
  {
   "cell_type": "code",
   "execution_count": 53,
   "id": "389ec5ea",
   "metadata": {},
   "outputs": [],
   "source": [
    "with multiprocessing.Pool(CORES) as pool:\n",
    "    scored_tuples = pool.map(scored_tuple, possible_tuples)\n",
    "\n",
    "scored_tuples.sort(key=lambda x : x[1])"
   ]
  },
  {
   "cell_type": "code",
   "execution_count": 62,
   "id": "897eb8c1",
   "metadata": {},
   "outputs": [
    {
     "name": "stdout",
     "output_type": "stream",
     "text": [
      "Success: True\n",
      "733940726498676569288807405759528571941506543729480876913520789114849260368218281657211345304565266472168410171749235447680320260228240973463600588854879\n",
      "507.808733977719 bits\n"
     ]
    }
   ],
   "source": [
    "if len(scored_tuples) > 0:\n",
    "    for tup, score in scored_tuples:\n",
    "        p = 3 * 4 * initial_product * prod(tup) - 1\n",
    "        if isprime(p):\n",
    "            break\n",
    "\n",
    "    print('Success:', isprime(p) and p % 8 == 7)\n",
    "    print(p)\n",
    "    print(N(log(p, 2)), 'bits')\n",
    "else:\n",
    "    print('No primes found')"
   ]
  },
  {
   "cell_type": "code",
   "execution_count": 60,
   "id": "9335adf7",
   "metadata": {},
   "outputs": [
    {
     "name": "stdout",
     "output_type": "stream",
     "text": [
      "p + 1 prime factors:\n",
      "[2, 3, 5, 7, 11, 13, 17, 19, 23, 29, 31, 37, 41, 43, 47, 53, 59, 61, 67, 71, 73, 79, 83, 89, 97, 101, 103, 107, 109, 113, 127, 131, 137, 139, 149, 151, 157, 163, 167, 173, 179, 181, 191, 193, 197, 199, 211, 223, 227, 229, 233, 239, 241, 251, 257, 263, 269, 271, 277, 281, 283, 293, 307, 311, 313, 317, 331, 337, 347, 349, 353, 359, 367, 419]\n"
     ]
    }
   ],
   "source": [
    "print('p + 1 prime factors:')\n",
    "print(list(factorint(p + 1).keys()))"
   ]
  }
 ],
 "metadata": {
  "kernelspec": {
   "display_name": "Python 3.10.6 64-bit",
   "language": "python",
   "name": "python3"
  },
  "language_info": {
   "codemirror_mode": {
    "name": "ipython",
    "version": 3
   },
   "file_extension": ".py",
   "mimetype": "text/x-python",
   "name": "python",
   "nbconvert_exporter": "python",
   "pygments_lexer": "ipython3",
   "version": "3.10.6"
  },
  "vscode": {
   "interpreter": {
    "hash": "916dbcbb3f70747c44a77c7bcd40155683ae19c65e1c03b4aa3499c5328201f1"
   }
  }
 },
 "nbformat": 4,
 "nbformat_minor": 5
}
